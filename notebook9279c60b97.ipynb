{
  "metadata": {
    "kernelspec": {
      "language": "python",
      "display_name": "Python 3",
      "name": "python3"
    },
    "language_info": {
      "name": "python",
      "version": "3.10.13",
      "mimetype": "text/x-python",
      "codemirror_mode": {
        "name": "ipython",
        "version": 3
      },
      "pygments_lexer": "ipython3",
      "nbconvert_exporter": "python",
      "file_extension": ".py"
    },
    "kaggle": {
      "accelerator": "none",
      "dataSources": [
        {
          "sourceId": 3494,
          "sourceType": "datasetVersion",
          "datasetId": 2050
        }
      ],
      "dockerImageVersionId": 30673,
      "isInternetEnabled": false,
      "language": "python",
      "sourceType": "notebook",
      "isGpuEnabled": false
    },
    "colab": {
      "name": "notebook9279c60b97",
      "provenance": []
    }
  },
  "nbformat_minor": 0,
  "nbformat": 4,
  "cells": [
    {
      "source": [
        "\n",
        "# IMPORTANT: RUN THIS CELL IN ORDER TO IMPORT YOUR KAGGLE DATA SOURCES\n",
        "# TO THE CORRECT LOCATION (/kaggle/input) IN YOUR NOTEBOOK,\n",
        "# THEN FEEL FREE TO DELETE THIS CELL.\n",
        "# NOTE: THIS NOTEBOOK ENVIRONMENT DIFFERS FROM KAGGLE'S PYTHON\n",
        "# ENVIRONMENT SO THERE MAY BE MISSING LIBRARIES USED BY YOUR\n",
        "# NOTEBOOK.\n",
        "\n",
        "import os\n",
        "import sys\n",
        "from tempfile import NamedTemporaryFile\n",
        "from urllib.request import urlopen\n",
        "from urllib.parse import unquote, urlparse\n",
        "from urllib.error import HTTPError\n",
        "from zipfile import ZipFile\n",
        "import tarfile\n",
        "import shutil\n",
        "\n",
        "CHUNK_SIZE = 40960\n",
        "DATA_SOURCE_MAPPING = 'spam-text-message-classification:https%3A%2F%2Fstorage.googleapis.com%2Fkaggle-data-sets%2F2050%2F3494%2Fbundle%2Farchive.zip%3FX-Goog-Algorithm%3DGOOG4-RSA-SHA256%26X-Goog-Credential%3Dgcp-kaggle-com%2540kaggle-161607.iam.gserviceaccount.com%252F20240401%252Fauto%252Fstorage%252Fgoog4_request%26X-Goog-Date%3D20240401T130658Z%26X-Goog-Expires%3D259200%26X-Goog-SignedHeaders%3Dhost%26X-Goog-Signature%3D6ce8cc0138761d2bbd965463ffca02cd16ca7192f3804700d380106a8ca444d38b3b06c83bb4a1b7e5a2ebad6989d7bd177698a76b1d5b19850fe464a3cdf7ed6482d2ba8c57c0d7bf7128e63d2e57f4842a4802b05114568b0872db6025a23653c31ae243a97ab05c9a29d5b2ac5c35428023aeff7c60d9b40ae65cd26dda77e5c30d313b62b9ef7fb71f56bb306ac2e269c62c42154643882d8e25beee000036e7e3253a04ec5af640d343fca2846d4eef6a3bd8d8acf7110f1d4633ecd42d6e9018c4d93a90855cacdf0a7b8d9e8b60461b09ed0f3fb77b4e8645bd76f3738e7c439cda57380643da0a2d1dfe0629347b6e62ca2049740b9e49dc33535923'\n",
        "\n",
        "KAGGLE_INPUT_PATH='/kaggle/input'\n",
        "KAGGLE_WORKING_PATH='/kaggle/working'\n",
        "KAGGLE_SYMLINK='kaggle'\n",
        "\n",
        "!umount /kaggle/input/ 2> /dev/null\n",
        "shutil.rmtree('/kaggle/input', ignore_errors=True)\n",
        "os.makedirs(KAGGLE_INPUT_PATH, 0o777, exist_ok=True)\n",
        "os.makedirs(KAGGLE_WORKING_PATH, 0o777, exist_ok=True)\n",
        "\n",
        "try:\n",
        "  os.symlink(KAGGLE_INPUT_PATH, os.path.join(\"..\", 'input'), target_is_directory=True)\n",
        "except FileExistsError:\n",
        "  pass\n",
        "try:\n",
        "  os.symlink(KAGGLE_WORKING_PATH, os.path.join(\"..\", 'working'), target_is_directory=True)\n",
        "except FileExistsError:\n",
        "  pass\n",
        "\n",
        "for data_source_mapping in DATA_SOURCE_MAPPING.split(','):\n",
        "    directory, download_url_encoded = data_source_mapping.split(':')\n",
        "    download_url = unquote(download_url_encoded)\n",
        "    filename = urlparse(download_url).path\n",
        "    destination_path = os.path.join(KAGGLE_INPUT_PATH, directory)\n",
        "    try:\n",
        "        with urlopen(download_url) as fileres, NamedTemporaryFile() as tfile:\n",
        "            total_length = fileres.headers['content-length']\n",
        "            print(f'Downloading {directory}, {total_length} bytes compressed')\n",
        "            dl = 0\n",
        "            data = fileres.read(CHUNK_SIZE)\n",
        "            while len(data) > 0:\n",
        "                dl += len(data)\n",
        "                tfile.write(data)\n",
        "                done = int(50 * dl / int(total_length))\n",
        "                sys.stdout.write(f\"\\r[{'=' * done}{' ' * (50-done)}] {dl} bytes downloaded\")\n",
        "                sys.stdout.flush()\n",
        "                data = fileres.read(CHUNK_SIZE)\n",
        "            if filename.endswith('.zip'):\n",
        "              with ZipFile(tfile) as zfile:\n",
        "                zfile.extractall(destination_path)\n",
        "            else:\n",
        "              with tarfile.open(tfile.name) as tarfile:\n",
        "                tarfile.extractall(destination_path)\n",
        "            print(f'\\nDownloaded and uncompressed: {directory}')\n",
        "    except HTTPError as e:\n",
        "        print(f'Failed to load (likely expired) {download_url} to path {destination_path}')\n",
        "        continue\n",
        "    except OSError as e:\n",
        "        print(f'Failed to load {download_url} to path {destination_path}')\n",
        "        continue\n",
        "\n",
        "print('Data source import complete.')\n"
      ],
      "metadata": {
        "colab": {
          "base_uri": "https://localhost:8080/"
        },
        "id": "ZeVJei9dxTdW",
        "outputId": "c01772a1-47c1-413e-a3c8-5baf0a9355fa"
      },
      "cell_type": "code",
      "outputs": [
        {
          "output_type": "stream",
          "name": "stdout",
          "text": [
            "Downloading spam-text-message-classification, 213261 bytes compressed\n",
            "[==================================================] 213261 bytes downloaded\n",
            "Downloaded and uncompressed: spam-text-message-classification\n",
            "Data source import complete.\n"
          ]
        }
      ],
      "execution_count": 1
    },
    {
      "cell_type": "code",
      "source": [
        "# This Python 3 environment comes with many helpful analytics libraries installed\n",
        "# It is defined by the kaggle/python Docker image: https://github.com/kaggle/docker-python\n",
        "# For example, here's several helpful packages to load\n",
        "\n",
        "import numpy as np # linear algebra\n",
        "import pandas as pd # data processing, CSV file I/O (e.g. pd.read_csv)\n",
        "\n",
        "# Input data files are available in the read-only \"../input/\" directory\n",
        "# For example, running this (by clicking run or pressing Shift+Enter) will list all files under the input directory\n",
        "\n",
        "import os\n",
        "for dirname, _, filenames in os.walk('/kaggle/input'):\n",
        "    for filename in filenames:\n",
        "        print(os.path.join(dirname, filename))\n",
        "\n",
        "# You can write up to 20GB to the current directory (/kaggle/working/) that gets preserved as output when you create a version using \"Save & Run All\"\n",
        "# You can also write temporary files to /kaggle/temp/, but they won't be saved outside of the current session"
      ],
      "metadata": {
        "_uuid": "8f2839f25d086af736a60e9eeb907d3b93b6e0e5",
        "_cell_guid": "b1076dfc-b9ad-4769-8c92-a6c4dae69d19",
        "execution": {
          "iopub.status.busy": "2024-04-01T13:02:43.026415Z",
          "iopub.execute_input": "2024-04-01T13:02:43.026789Z",
          "iopub.status.idle": "2024-04-01T13:02:44.193556Z",
          "shell.execute_reply.started": "2024-04-01T13:02:43.026759Z",
          "shell.execute_reply": "2024-04-01T13:02:44.191988Z"
        },
        "trusted": true,
        "colab": {
          "base_uri": "https://localhost:8080/"
        },
        "id": "jJaLQUv3xTdZ",
        "outputId": "b5908117-87d3-4414-9182-3b08073a506d"
      },
      "execution_count": 2,
      "outputs": [
        {
          "output_type": "stream",
          "name": "stdout",
          "text": [
            "/kaggle/input/spam-text-message-classification/SPAM text message 20170820 - Data.csv\n"
          ]
        }
      ]
    },
    {
      "cell_type": "code",
      "source": [
        "import pandas as pd\n",
        "import numpy as np\n",
        "import seaborn as sn\n",
        "import matplotlib.pyplot as plt\n",
        "import re\n",
        "import nltk\n",
        "from collections import Counter\n",
        "from sklearn.feature_extraction.text import TfidfVectorizer,CountVectorizer\n",
        "from sklearn.model_selection import train_test_split\n",
        "from sklearn.svm import SVC\n",
        "from sklearn.tree import DecisionTreeClassifier\n",
        "from sklearn.ensemble import RandomForestClassifier\n",
        "from sklearn.naive_bayes import GaussianNB,MultinomialNB\n",
        "from sklearn import metrics\n",
        "\n",
        "from nltk.stem import WordNetLemmatizer\n",
        "from nltk.corpus import stopwords\n",
        "from nltk.stem.porter import PorterStemmer\n",
        "from nltk.tokenize import word_tokenize\n",
        "from collections import Counter\n",
        "from wordcloud import WordCloud\n",
        "from nltk.tokenize.toktok import ToktokTokenizer\n",
        "from bs4 import BeautifulSoup\n",
        "from nltk import pos_tag\n",
        "from nltk.corpus import wordnet"
      ],
      "metadata": {
        "execution": {
          "iopub.status.busy": "2024-04-01T13:02:48.821612Z",
          "iopub.execute_input": "2024-04-01T13:02:48.822154Z",
          "iopub.status.idle": "2024-04-01T13:02:49.766986Z",
          "shell.execute_reply.started": "2024-04-01T13:02:48.822122Z",
          "shell.execute_reply": "2024-04-01T13:02:49.765743Z"
        },
        "trusted": true,
        "id": "HsRh4fztxTda"
      },
      "execution_count": 3,
      "outputs": []
    },
    {
      "cell_type": "code",
      "source": [
        "df1 = pd.read_csv(\"/kaggle/input/spam-text-message-classification/SPAM text message 20170820 - Data.csv\")"
      ],
      "metadata": {
        "execution": {
          "iopub.status.busy": "2024-04-01T13:03:04.526003Z",
          "iopub.execute_input": "2024-04-01T13:03:04.526761Z",
          "iopub.status.idle": "2024-04-01T13:03:04.548745Z",
          "shell.execute_reply.started": "2024-04-01T13:03:04.526726Z",
          "shell.execute_reply": "2024-04-01T13:03:04.547818Z"
        },
        "trusted": true,
        "id": "G-dYoEVwxTdb"
      },
      "execution_count": 4,
      "outputs": []
    },
    {
      "cell_type": "code",
      "source": [
        "df1.shape"
      ],
      "metadata": {
        "execution": {
          "iopub.status.busy": "2024-04-01T13:03:08.136123Z",
          "iopub.execute_input": "2024-04-01T13:03:08.137125Z",
          "iopub.status.idle": "2024-04-01T13:03:08.144307Z",
          "shell.execute_reply.started": "2024-04-01T13:03:08.137086Z",
          "shell.execute_reply": "2024-04-01T13:03:08.142991Z"
        },
        "trusted": true,
        "id": "m-NZD_UkxTdb",
        "outputId": "f9245154-7cbf-4e12-cd69-f79726904ed4"
      },
      "execution_count": null,
      "outputs": [
        {
          "execution_count": 11,
          "output_type": "execute_result",
          "data": {
            "text/plain": "(5572, 2)"
          },
          "metadata": {}
        }
      ]
    },
    {
      "cell_type": "code",
      "source": [
        "df1.head()"
      ],
      "metadata": {
        "execution": {
          "iopub.status.busy": "2024-04-01T13:03:12.220887Z",
          "iopub.execute_input": "2024-04-01T13:03:12.22131Z",
          "iopub.status.idle": "2024-04-01T13:03:12.239454Z",
          "shell.execute_reply.started": "2024-04-01T13:03:12.221278Z",
          "shell.execute_reply": "2024-04-01T13:03:12.238189Z"
        },
        "trusted": true,
        "id": "FJ7njMPUxTdc",
        "outputId": "10fb6897-ce79-4748-9082-dc2341b6bc4f"
      },
      "execution_count": null,
      "outputs": [
        {
          "execution_count": 12,
          "output_type": "execute_result",
          "data": {
            "text/plain": "  Category                                            Message\n0      ham  Go until jurong point, crazy.. Available only ...\n1      ham                      Ok lar... Joking wif u oni...\n2     spam  Free entry in 2 a wkly comp to win FA Cup fina...\n3      ham  U dun say so early hor... U c already then say...\n4      ham  Nah I don't think he goes to usf, he lives aro...",
            "text/html": "<div>\n<style scoped>\n    .dataframe tbody tr th:only-of-type {\n        vertical-align: middle;\n    }\n\n    .dataframe tbody tr th {\n        vertical-align: top;\n    }\n\n    .dataframe thead th {\n        text-align: right;\n    }\n</style>\n<table border=\"1\" class=\"dataframe\">\n  <thead>\n    <tr style=\"text-align: right;\">\n      <th></th>\n      <th>Category</th>\n      <th>Message</th>\n    </tr>\n  </thead>\n  <tbody>\n    <tr>\n      <th>0</th>\n      <td>ham</td>\n      <td>Go until jurong point, crazy.. Available only ...</td>\n    </tr>\n    <tr>\n      <th>1</th>\n      <td>ham</td>\n      <td>Ok lar... Joking wif u oni...</td>\n    </tr>\n    <tr>\n      <th>2</th>\n      <td>spam</td>\n      <td>Free entry in 2 a wkly comp to win FA Cup fina...</td>\n    </tr>\n    <tr>\n      <th>3</th>\n      <td>ham</td>\n      <td>U dun say so early hor... U c already then say...</td>\n    </tr>\n    <tr>\n      <th>4</th>\n      <td>ham</td>\n      <td>Nah I don't think he goes to usf, he lives aro...</td>\n    </tr>\n  </tbody>\n</table>\n</div>"
          },
          "metadata": {}
        }
      ]
    },
    {
      "cell_type": "code",
      "source": [
        "df1.info()"
      ],
      "metadata": {
        "execution": {
          "iopub.status.busy": "2024-04-01T13:03:16.667873Z",
          "iopub.execute_input": "2024-04-01T13:03:16.668288Z",
          "iopub.status.idle": "2024-04-01T13:03:16.699808Z",
          "shell.execute_reply.started": "2024-04-01T13:03:16.668255Z",
          "shell.execute_reply": "2024-04-01T13:03:16.698485Z"
        },
        "trusted": true,
        "id": "o_wACvg-xTdc",
        "outputId": "801e4144-907d-42a2-f458-adbadbef89b3"
      },
      "execution_count": null,
      "outputs": [
        {
          "name": "stdout",
          "text": "<class 'pandas.core.frame.DataFrame'>\nRangeIndex: 5572 entries, 0 to 5571\nData columns (total 2 columns):\n #   Column    Non-Null Count  Dtype \n---  ------    --------------  ----- \n 0   Category  5572 non-null   object\n 1   Message   5572 non-null   object\ndtypes: object(2)\nmemory usage: 87.2+ KB\n",
          "output_type": "stream"
        }
      ]
    },
    {
      "cell_type": "code",
      "source": [
        "df1.groupby(['Category']).describe()"
      ],
      "metadata": {
        "execution": {
          "iopub.status.busy": "2024-04-01T13:03:20.090967Z",
          "iopub.execute_input": "2024-04-01T13:03:20.091372Z",
          "iopub.status.idle": "2024-04-01T13:03:20.131248Z",
          "shell.execute_reply.started": "2024-04-01T13:03:20.091339Z",
          "shell.execute_reply": "2024-04-01T13:03:20.130006Z"
        },
        "trusted": true,
        "id": "bFJtbdk8xTdd",
        "outputId": "3f0b1d5b-e658-4ccb-9b9d-3e0ff08997c2"
      },
      "execution_count": null,
      "outputs": [
        {
          "execution_count": 14,
          "output_type": "execute_result",
          "data": {
            "text/plain": "         Message                                                            \\\n           count unique                                                top   \nCategory                                                                     \nham         4825   4516                             Sorry, I'll call later   \nspam         747    641  Please call our customer service representativ...   \n\n               \n         freq  \nCategory       \nham        30  \nspam        4  ",
            "text/html": "<div>\n<style scoped>\n    .dataframe tbody tr th:only-of-type {\n        vertical-align: middle;\n    }\n\n    .dataframe tbody tr th {\n        vertical-align: top;\n    }\n\n    .dataframe thead tr th {\n        text-align: left;\n    }\n\n    .dataframe thead tr:last-of-type th {\n        text-align: right;\n    }\n</style>\n<table border=\"1\" class=\"dataframe\">\n  <thead>\n    <tr>\n      <th></th>\n      <th colspan=\"4\" halign=\"left\">Message</th>\n    </tr>\n    <tr>\n      <th></th>\n      <th>count</th>\n      <th>unique</th>\n      <th>top</th>\n      <th>freq</th>\n    </tr>\n    <tr>\n      <th>Category</th>\n      <th></th>\n      <th></th>\n      <th></th>\n      <th></th>\n    </tr>\n  </thead>\n  <tbody>\n    <tr>\n      <th>ham</th>\n      <td>4825</td>\n      <td>4516</td>\n      <td>Sorry, I'll call later</td>\n      <td>30</td>\n    </tr>\n    <tr>\n      <th>spam</th>\n      <td>747</td>\n      <td>641</td>\n      <td>Please call our customer service representativ...</td>\n      <td>4</td>\n    </tr>\n  </tbody>\n</table>\n</div>"
          },
          "metadata": {}
        }
      ]
    },
    {
      "cell_type": "code",
      "source": [
        "df1.isnull().sum()"
      ],
      "metadata": {
        "execution": {
          "iopub.status.busy": "2024-04-01T13:03:23.836409Z",
          "iopub.execute_input": "2024-04-01T13:03:23.836812Z",
          "iopub.status.idle": "2024-04-01T13:03:23.847806Z",
          "shell.execute_reply.started": "2024-04-01T13:03:23.83678Z",
          "shell.execute_reply": "2024-04-01T13:03:23.846311Z"
        },
        "trusted": true,
        "id": "OH-xhUyqxTdd",
        "outputId": "21c506dd-dccf-4c9d-fc74-bdc75b31474e"
      },
      "execution_count": null,
      "outputs": [
        {
          "execution_count": 15,
          "output_type": "execute_result",
          "data": {
            "text/plain": "Category    0\nMessage     0\ndtype: int64"
          },
          "metadata": {}
        }
      ]
    },
    {
      "cell_type": "code",
      "source": [
        "#Since the database is big (5572) we are creating a subset database of 2500\n",
        "df_ham = df1[df1[\"Category\"]==\"ham\"][:2000]\n",
        "df_spam = df1[df1[\"Category\"]==\"spam\"][:700]\n",
        "messeges = pd.concat([df_ham, df_spam])"
      ],
      "metadata": {
        "execution": {
          "iopub.status.busy": "2024-04-01T13:03:31.221006Z",
          "iopub.execute_input": "2024-04-01T13:03:31.221454Z",
          "iopub.status.idle": "2024-04-01T13:03:31.234489Z",
          "shell.execute_reply.started": "2024-04-01T13:03:31.221418Z",
          "shell.execute_reply": "2024-04-01T13:03:31.233081Z"
        },
        "trusted": true,
        "id": "aY7wfQNOxTdd"
      },
      "execution_count": 23,
      "outputs": []
    },
    {
      "cell_type": "code",
      "source": [
        "messeges.shape"
      ],
      "metadata": {
        "execution": {
          "iopub.status.busy": "2024-04-01T13:03:34.225825Z",
          "iopub.execute_input": "2024-04-01T13:03:34.226295Z",
          "iopub.status.idle": "2024-04-01T13:03:34.233619Z",
          "shell.execute_reply.started": "2024-04-01T13:03:34.226262Z",
          "shell.execute_reply": "2024-04-01T13:03:34.232289Z"
        },
        "trusted": true,
        "colab": {
          "base_uri": "https://localhost:8080/"
        },
        "id": "k2O8L4g0xTde",
        "outputId": "a839f8f2-a0d4-415c-f778-ca6eaedaacf7"
      },
      "execution_count": 24,
      "outputs": [
        {
          "output_type": "execute_result",
          "data": {
            "text/plain": [
              "(2700, 2)"
            ]
          },
          "metadata": {},
          "execution_count": 24
        }
      ]
    },
    {
      "cell_type": "code",
      "source": [
        "## cleaning the text\n",
        "\n",
        "def cleantext(text):\n",
        "\n",
        "    # removing the \"\\\"\n",
        "\n",
        "    text = re.sub(\"'\\''\",\"\",text)\n",
        "\n",
        "    # removing special symbols\n",
        "\n",
        "    text = re.sub(\"[^a-zA-Z]\",\" \",text)\n",
        "\n",
        "    # removing the whitespaces\n",
        "\n",
        "    text = ' '.join(text.split())\n",
        "\n",
        "    # convert text to lowercase\n",
        "\n",
        "    text = text.lower()\n",
        "\n",
        "    return text\n",
        "\n",
        "\n",
        "\n",
        "messeges['Message'] = messeges['Message'].apply(lambda x:cleantext(x))\n",
        "messeges['Message'].iloc[1]"
      ],
      "metadata": {
        "execution": {
          "iopub.status.busy": "2024-04-01T13:03:43.651394Z",
          "iopub.execute_input": "2024-04-01T13:03:43.651771Z",
          "iopub.status.idle": "2024-04-01T13:03:43.698638Z",
          "shell.execute_reply.started": "2024-04-01T13:03:43.651741Z",
          "shell.execute_reply": "2024-04-01T13:03:43.697374Z"
        },
        "trusted": true,
        "colab": {
          "base_uri": "https://localhost:8080/",
          "height": 36
        },
        "id": "LfoFz9IyxTde",
        "outputId": "72b25f23-c1fe-4b90-d4ae-26ff233f7cbc"
      },
      "execution_count": 25,
      "outputs": [
        {
          "output_type": "execute_result",
          "data": {
            "text/plain": [
              "'ok lar joking wif u oni'"
            ],
            "application/vnd.google.colaboratory.intrinsic+json": {
              "type": "string"
            }
          },
          "metadata": {},
          "execution_count": 25
        }
      ]
    },
    {
      "cell_type": "code",
      "source": [
        "!python -m nltk.downloader stopwords"
      ],
      "metadata": {
        "colab": {
          "base_uri": "https://localhost:8080/"
        },
        "id": "zTNXxRozx7UV",
        "outputId": "8cdba3e4-7548-4ccd-fbbe-5c0efeb832e4"
      },
      "execution_count": 26,
      "outputs": [
        {
          "output_type": "stream",
          "name": "stdout",
          "text": [
            "/usr/lib/python3.10/runpy.py:126: RuntimeWarning: 'nltk.downloader' found in sys.modules after import of package 'nltk', but prior to execution of 'nltk.downloader'; this may result in unpredictable behaviour\n",
            "  warn(RuntimeWarning(msg))\n",
            "[nltk_data] Downloading package stopwords to /root/nltk_data...\n",
            "[nltk_data]   Package stopwords is already up-to-date!\n"
          ]
        }
      ]
    },
    {
      "cell_type": "code",
      "source": [
        "# Install the stopwords corpus if it is not already installed\n",
        "!python -m nltk.downloader stopwords\n",
        "\n",
        "# Import the stopwords module\n",
        "from nltk.corpus import stopwords\n",
        "\n",
        "# Get a list of English stopwords\n",
        "stopwords_list = stopwords.words('english')\n",
        "\n",
        "# Print the list of stopwords\n",
        "print(\", \".join(stopwords_list))"
      ],
      "metadata": {
        "colab": {
          "base_uri": "https://localhost:8080/"
        },
        "id": "CrbOK8I4x9tB",
        "outputId": "79c7784b-5fce-4d7f-f05a-c4da57a95043"
      },
      "execution_count": 27,
      "outputs": [
        {
          "output_type": "stream",
          "name": "stdout",
          "text": [
            "/usr/lib/python3.10/runpy.py:126: RuntimeWarning: 'nltk.downloader' found in sys.modules after import of package 'nltk', but prior to execution of 'nltk.downloader'; this may result in unpredictable behaviour\n",
            "  warn(RuntimeWarning(msg))\n",
            "[nltk_data] Downloading package stopwords to /root/nltk_data...\n",
            "[nltk_data]   Package stopwords is already up-to-date!\n",
            "i, me, my, myself, we, our, ours, ourselves, you, you're, you've, you'll, you'd, your, yours, yourself, yourselves, he, him, his, himself, she, she's, her, hers, herself, it, it's, its, itself, they, them, their, theirs, themselves, what, which, who, whom, this, that, that'll, these, those, am, is, are, was, were, be, been, being, have, has, had, having, do, does, did, doing, a, an, the, and, but, if, or, because, as, until, while, of, at, by, for, with, about, against, between, into, through, during, before, after, above, below, to, from, up, down, in, out, on, off, over, under, again, further, then, once, here, there, when, where, why, how, all, any, both, each, few, more, most, other, some, such, no, nor, not, only, own, same, so, than, too, very, s, t, can, will, just, don, don't, should, should've, now, d, ll, m, o, re, ve, y, ain, aren, aren't, couldn, couldn't, didn, didn't, doesn, doesn't, hadn, hadn't, hasn, hasn't, haven, haven't, isn, isn't, ma, mightn, mightn't, mustn, mustn't, needn, needn't, shan, shan't, shouldn, shouldn't, wasn, wasn't, weren, weren't, won, won't, wouldn, wouldn't\n"
          ]
        }
      ]
    },
    {
      "cell_type": "code",
      "source": [
        "from nltk.corpus import stopwords\n",
        "\", \".join(stopwords.words('english'))"
      ],
      "metadata": {
        "execution": {
          "iopub.status.busy": "2024-04-01T13:03:48.745799Z",
          "iopub.execute_input": "2024-04-01T13:03:48.746195Z",
          "iopub.status.idle": "2024-04-01T13:03:48.759796Z",
          "shell.execute_reply.started": "2024-04-01T13:03:48.746164Z",
          "shell.execute_reply": "2024-04-01T13:03:48.758551Z"
        },
        "trusted": true,
        "colab": {
          "base_uri": "https://localhost:8080/",
          "height": 163
        },
        "id": "UwROj4C1xTdf",
        "outputId": "0866f4d1-1e3f-4171-8663-c4197a265f6b"
      },
      "execution_count": 32,
      "outputs": [
        {
          "output_type": "execute_result",
          "data": {
            "text/plain": [
              "\"i, me, my, myself, we, our, ours, ourselves, you, you're, you've, you'll, you'd, your, yours, yourself, yourselves, he, him, his, himself, she, she's, her, hers, herself, it, it's, its, itself, they, them, their, theirs, themselves, what, which, who, whom, this, that, that'll, these, those, am, is, are, was, were, be, been, being, have, has, had, having, do, does, did, doing, a, an, the, and, but, if, or, because, as, until, while, of, at, by, for, with, about, against, between, into, through, during, before, after, above, below, to, from, up, down, in, out, on, off, over, under, again, further, then, once, here, there, when, where, why, how, all, any, both, each, few, more, most, other, some, such, no, nor, not, only, own, same, so, than, too, very, s, t, can, will, just, don, don't, should, should've, now, d, ll, m, o, re, ve, y, ain, aren, aren't, couldn, couldn't, didn, didn't, doesn, doesn't, hadn, hadn't, hasn, hasn't, haven, haven't, isn, isn't, ma, mightn, mightn't, mustn, mustn't, needn, needn't, shan, shan't, shouldn, shouldn't, wasn, wasn't, weren, weren't, won, won't, wouldn, wouldn't\""
            ],
            "application/vnd.google.colaboratory.intrinsic+json": {
              "type": "string"
            }
          },
          "metadata": {},
          "execution_count": 32
        }
      ]
    },
    {
      "cell_type": "code",
      "source": [
        "import nltk\n",
        "nltk.download('stopwords')"
      ],
      "metadata": {
        "execution": {
          "iopub.status.busy": "2024-04-01T13:03:52.110531Z",
          "iopub.execute_input": "2024-04-01T13:03:52.111504Z",
          "iopub.status.idle": "2024-04-01T13:04:12.149795Z",
          "shell.execute_reply.started": "2024-04-01T13:03:52.111461Z",
          "shell.execute_reply": "2024-04-01T13:04:12.148602Z"
        },
        "trusted": true,
        "colab": {
          "base_uri": "https://localhost:8080/"
        },
        "id": "jxCfwHXpxTdf",
        "outputId": "0127b804-b383-4bd2-daf1-a25ad507df35"
      },
      "execution_count": 33,
      "outputs": [
        {
          "output_type": "stream",
          "name": "stderr",
          "text": [
            "[nltk_data] Downloading package stopwords to /root/nltk_data...\n",
            "[nltk_data]   Package stopwords is already up-to-date!\n"
          ]
        },
        {
          "output_type": "execute_result",
          "data": {
            "text/plain": [
              "True"
            ]
          },
          "metadata": {},
          "execution_count": 33
        }
      ]
    },
    {
      "cell_type": "code",
      "source": [
        "\n",
        "def removestopwords(text):\n",
        "\n",
        "    removedstopword = [word for word in text.split() if word not in stopwords_list]\n",
        "    return ' '.join(removedstopword)\n",
        "\n",
        "messeges['Message'] = messeges['Message'].apply(lambda x:removestopwords(x))\n",
        "messeges['Message'].iloc[1]\n"
      ],
      "metadata": {
        "execution": {
          "iopub.status.busy": "2024-04-01T13:05:06.752738Z",
          "iopub.execute_input": "2024-04-01T13:05:06.753181Z",
          "iopub.status.idle": "2024-04-01T13:05:26.810898Z",
          "shell.execute_reply.started": "2024-04-01T13:05:06.753147Z",
          "shell.execute_reply": "2024-04-01T13:05:26.809855Z"
        },
        "trusted": true,
        "colab": {
          "base_uri": "https://localhost:8080/",
          "height": 36
        },
        "id": "sLmhNulMxTdf",
        "outputId": "82e1f390-dc9f-465f-a548-6b5df522d31a"
      },
      "execution_count": 34,
      "outputs": [
        {
          "output_type": "execute_result",
          "data": {
            "text/plain": [
              "'ok lar joking wif u oni'"
            ],
            "application/vnd.google.colaboratory.intrinsic+json": {
              "type": "string"
            }
          },
          "metadata": {},
          "execution_count": 34
        }
      ]
    },
    {
      "cell_type": "code",
      "source": [
        "print(\"hello\")"
      ],
      "metadata": {
        "execution": {
          "iopub.status.busy": "2024-04-01T13:00:21.777173Z",
          "iopub.execute_input": "2024-04-01T13:00:21.777986Z",
          "iopub.status.idle": "2024-04-01T13:00:21.819334Z",
          "shell.execute_reply.started": "2024-04-01T13:00:21.777943Z",
          "shell.execute_reply": "2024-04-01T13:00:21.818282Z"
        },
        "trusted": true,
        "colab": {
          "base_uri": "https://localhost:8080/"
        },
        "id": "2nnFl34DxTdg",
        "outputId": "bde6c59e-db18-464f-c54d-e731b8e523d6"
      },
      "execution_count": 35,
      "outputs": [
        {
          "output_type": "stream",
          "name": "stdout",
          "text": [
            "hello\n"
          ]
        }
      ]
    },
    {
      "cell_type": "code",
      "source": [
        "def remove_special_characters(text, remove_digits=True):\n",
        "    pattern=r'[^a-zA-z0-9\\s]'\n",
        "    text=re.sub(pattern,'',text)\n",
        "    return text\n",
        "\n",
        "#Removing numbers\n",
        "def remove_numbers(text):\n",
        "    pattern = r'\\d+'\n",
        "    text = re.sub(pattern, '', text)\n",
        "    return text"
      ],
      "metadata": {
        "id": "A8WYhq32xTdg"
      },
      "execution_count": 36,
      "outputs": []
    },
    {
      "cell_type": "code",
      "source": [
        "messeges['Message']=messeges['Message'].apply(remove_special_characters)\n",
        "messeges['Message']=messeges['Message'].apply(remove_numbers)"
      ],
      "metadata": {
        "id": "BVNPKFFexTdg"
      },
      "execution_count": 37,
      "outputs": []
    },
    {
      "cell_type": "code",
      "source": [
        "nltk.download('wordnet')"
      ],
      "metadata": {
        "colab": {
          "base_uri": "https://localhost:8080/"
        },
        "id": "M5CIT4sYxTdg",
        "outputId": "60ae4190-bc95-4bca-d33e-98e05c0180f2"
      },
      "execution_count": 38,
      "outputs": [
        {
          "output_type": "stream",
          "name": "stderr",
          "text": [
            "[nltk_data] Downloading package wordnet to /root/nltk_data...\n",
            "[nltk_data]   Package wordnet is already up-to-date!\n"
          ]
        },
        {
          "output_type": "execute_result",
          "data": {
            "text/plain": [
              "True"
            ]
          },
          "metadata": {},
          "execution_count": 38
        }
      ]
    },
    {
      "cell_type": "code",
      "source": [
        "!unzip /usr/share/nltk_data/corpora/wordnet.zip -d /usr/share/nltk_data/corpora/\n"
      ],
      "metadata": {
        "colab": {
          "base_uri": "https://localhost:8080/"
        },
        "id": "8V7DyQIXzZw7",
        "outputId": "299bdcc5-b1eb-4631-e701-8c4f9bee4527"
      },
      "execution_count": 39,
      "outputs": [
        {
          "output_type": "stream",
          "name": "stdout",
          "text": [
            "unzip:  cannot find or open /usr/share/nltk_data/corpora/wordnet.zip, /usr/share/nltk_data/corpora/wordnet.zip.zip or /usr/share/nltk_data/corpora/wordnet.zip.ZIP.\n"
          ]
        }
      ]
    },
    {
      "cell_type": "code",
      "source": [
        "from nltk.stem import WordNetLemmatizer\n",
        "from nltk.stem import WordNetLemmatizer"
      ],
      "metadata": {
        "id": "Yyz5NI612DRZ"
      },
      "execution_count": 40,
      "outputs": []
    },
    {
      "cell_type": "code",
      "source": [
        "#lemmatizing\n",
        "\n",
        "lemma=WordNetLemmatizer()\n",
        "\n",
        "def lematizing(sentence):\n",
        "    stemSentence = \"\"\n",
        "    for word in sentence.split():\n",
        "        stem = lemma.lemmatize(word)\n",
        "        stemSentence += stem\n",
        "        stemSentence += \" \"\n",
        "    stemSentence = stemSentence.strip()\n",
        "    return stemSentence\n",
        "\n",
        "\n",
        "messeges['Message'] = messeges['Message'].apply(lambda x: lematizing(x))\n",
        "messeges['Message'].iloc[1]"
      ],
      "metadata": {
        "colab": {
          "base_uri": "https://localhost:8080/",
          "height": 36
        },
        "id": "I1Pzt3-42HfV",
        "outputId": "09aebe60-4763-4fa9-eb5e-4237ce2d1972"
      },
      "execution_count": 41,
      "outputs": [
        {
          "output_type": "execute_result",
          "data": {
            "text/plain": [
              "'ok lar joking wif u oni'"
            ],
            "application/vnd.google.colaboratory.intrinsic+json": {
              "type": "string"
            }
          },
          "metadata": {},
          "execution_count": 41
        }
      ]
    },
    {
      "cell_type": "code",
      "source": [
        "#stemming\n",
        "\n",
        "# Approach\n",
        "\n",
        "from nltk.stem import PorterStemmer\n",
        "stemmer = PorterStemmer()\n",
        "\n",
        "def stemming(sentence):\n",
        "\n",
        "    stemmed_sentence = \"\"\n",
        "    for word in sentence.split():\n",
        "        stem = stemmer.stem(word)\n",
        "        stemmed_sentence+=stem\n",
        "        stemmed_sentence+=\" \"\n",
        "\n",
        "    stemmed_sentence = stemmed_sentence.strip()\n",
        "    return stemmed_sentence\n",
        "\n",
        "messeges['Message'] = messeges['Message'].apply(lambda text:stemming(text))\n",
        "messeges['Message'].iloc[1]"
      ],
      "metadata": {
        "colab": {
          "base_uri": "https://localhost:8080/",
          "height": 36
        },
        "id": "nPLlmVxn2v5y",
        "outputId": "d24ef98b-bc50-426b-b61e-5d93657d350d"
      },
      "execution_count": 42,
      "outputs": [
        {
          "output_type": "execute_result",
          "data": {
            "text/plain": [
              "'ok lar joke wif u oni'"
            ],
            "application/vnd.google.colaboratory.intrinsic+json": {
              "type": "string"
            }
          },
          "metadata": {},
          "execution_count": 42
        }
      ]
    },
    {
      "cell_type": "code",
      "source": [
        "# visualising frewords\n",
        "\n",
        "def showmostfrequentwords(text,no_of_words):\n",
        "\n",
        "    allwords = ' '.join([char for char in text])\n",
        "    allwords = allwords.split()\n",
        "    fdist = nltk.FreqDist(allwords)\n",
        "\n",
        "    wordsdf = pd.DataFrame({'word':list(fdist.keys()),'count':list(fdist.values())})\n",
        "\n",
        "    df = wordsdf.nlargest(columns=\"count\",n = no_of_words)\n",
        "\n",
        "    plt.figure(figsize=(7,5))\n",
        "    ax = sn.barplot(data=df,x = 'count',y = 'word')\n",
        "    ax.set(ylabel = 'Word')\n",
        "    plt.show()\n",
        "\n",
        "    return wordsdf\n",
        "\n",
        "\n",
        "# 25 most frequent words\n",
        "\n",
        "\n",
        "freq_df = showmostfrequentwords(messeges['Message'],25)\n"
      ],
      "metadata": {
        "colab": {
          "base_uri": "https://localhost:8080/",
          "height": 465
        },
        "id": "ZezmtjZY3EMh",
        "outputId": "0890fb8c-24bc-4b20-aea6-f2660cbdef3d"
      },
      "execution_count": 43,
      "outputs": [
        {
          "output_type": "display_data",
          "data": {
            "text/plain": [
              "<Figure size 700x500 with 1 Axes>"
            ],
            "image/png": "[encoded data removed]"
          },
          "metadata": {}
        }
      ]
    },
    {
      "cell_type": "code",
      "source": [
        "y = np.array(messeges['Category'].map({'ham': 1, 'spam': 0}))"
      ],
      "metadata": {
        "id": "v_xffj623R7N"
      },
      "execution_count": 50,
      "outputs": []
    },
    {
      "cell_type": "markdown",
      "source": [
        "# **VECTORIZATION**"
      ],
      "metadata": {
        "id": "SjVCPxX0LDRI"
      }
    },
    {
      "cell_type": "markdown",
      "source": [
        "# **bag of word**"
      ],
      "metadata": {
        "id": "Nu34vHCvPc_Q"
      }
    },
    {
      "cell_type": "code",
      "source": [
        "## count vectorizer\n",
        "import time\n",
        "def vectorize_text():\n",
        "    count_vec = CountVectorizer(max_df=0.90,min_df=2,\n",
        "                           max_features=10000 )\n",
        "\n",
        "    bagofword_vec = count_vec.fit_transform(messeges['Message'])\n",
        "start_time = time.perf_counter()\n",
        "# Perform vectorization\n",
        "vector = vectorize_text()\n",
        "\n",
        "# End time measurement\n",
        "end_time = time.perf_counter()\n",
        "\n",
        "# Calculate elapsed time\n",
        "elapsed_time = end_time - start_time\n",
        "print(f\"Computational time for vectorization: {elapsed_time:.4f} seconds\")\n",
        "\n",
        "bagofword_vec"
      ],
      "metadata": {
        "colab": {
          "base_uri": "https://localhost:8080/"
        },
        "id": "8A3v_oYjVvL_",
        "outputId": "eea1bfda-6fc1-49a9-85ec-826844d64e7c"
      },
      "execution_count": 106,
      "outputs": [
        {
          "output_type": "stream",
          "name": "stdout",
          "text": [
            "Computational time for vectorization: 0.0817 seconds\n"
          ]
        },
        {
          "output_type": "execute_result",
          "data": {
            "text/plain": [
              "<2700x1000 sparse matrix of type '<class 'numpy.int64'>'\n",
              "\twith 16742 stored elements in Compressed Sparse Row format>"
            ]
          },
          "metadata": {},
          "execution_count": 106
        }
      ]
    },
    {
      "cell_type": "code",
      "source": [
        "## count vectorizer\n",
        "\n",
        "count_vec = CountVectorizer(max_df=0.90,min_df=2,\n",
        "                           max_features=1000,stop_words='english')\n",
        "\n",
        "bagofword_vec = count_vec.fit_transform(messeges['Message'])\n",
        "bagofword_vec"
      ],
      "metadata": {
        "colab": {
          "base_uri": "https://localhost:8080/"
        },
        "id": "iKdZQJKD4HE3",
        "outputId": "74fbb882-fe30-495d-cc9f-646ebc6fb48b"
      },
      "execution_count": 51,
      "outputs": [
        {
          "output_type": "execute_result",
          "data": {
            "text/plain": [
              "<2700x1000 sparse matrix of type '<class 'numpy.int64'>'\n",
              "\twith 16742 stored elements in Compressed Sparse Row format>"
            ]
          },
          "metadata": {},
          "execution_count": 51
        }
      ]
    },
    {
      "cell_type": "code",
      "source": [
        "X_train, X_test, y_train, y_test = train_test_split(bagofword_vec,y,\n",
        "                                                    test_size=0.2)\n",
        "X_train.shape,X_test.shape"
      ],
      "metadata": {
        "colab": {
          "base_uri": "https://localhost:8080/"
        },
        "id": "1GTS1e_R4Pne",
        "outputId": "9f7344d1-2234-4164-cf86-288df566dc7b"
      },
      "execution_count": 52,
      "outputs": [
        {
          "output_type": "execute_result",
          "data": {
            "text/plain": [
              "((2160, 1000), (540, 1000))"
            ]
          },
          "metadata": {},
          "execution_count": 52
        }
      ]
    },
    {
      "cell_type": "markdown",
      "source": [
        "# **SVC**"
      ],
      "metadata": {
        "id": "tG4zZHoGOlAc"
      }
    },
    {
      "cell_type": "code",
      "source": [
        "from sklearn import metrics\n",
        "from sklearn.svm import SVC\n",
        "\n",
        "\n",
        "# Train the SVC model\n",
        "svc = SVC()\n",
        "svc.fit(X_train, y_train)\n",
        "\n",
        "# Make predictions on the test set\n",
        "svccpred = svc.predict(X_test)\n",
        "\n",
        "# Calculate accuracy on the training and test sets\n",
        "train_accuracy = svc.score(X_train, y_train)\n",
        "test_accuracy = svc.score(X_test, y_test)\n",
        "\n",
        "# Print the accuracy scores\n",
        "print('Accuracy on training data: {:,.3f}'.format(train_accuracy))\n",
        "print('Accuracy on test data: {:,.3f}'.format(test_accuracy))"
      ],
      "metadata": {
        "colab": {
          "base_uri": "https://localhost:8080/"
        },
        "id": "bUE7cBQl4sfP",
        "outputId": "5779a956-2118-4d61-ff05-7f63a9cb0432"
      },
      "execution_count": 70,
      "outputs": [
        {
          "output_type": "stream",
          "name": "stdout",
          "text": [
            "Accuracy on training data: 0.986\n",
            "Accuracy on test data: 0.969\n"
          ]
        }
      ]
    },
    {
      "cell_type": "code",
      "source": [
        "from sklearn.metrics import confusion_matrix\n",
        "from sklearn.metrics import classification_report\n",
        "\n",
        "# Print the confusion matrix\n",
        "print(confusion_matrix(y_test, svccpred))\n",
        "print(classification_report(y_test, svccpred))"
      ],
      "metadata": {
        "colab": {
          "base_uri": "https://localhost:8080/"
        },
        "id": "hnoKAZFWMa8L",
        "outputId": "c1748f8b-64c3-47d6-e2f3-60ed291638cf"
      },
      "execution_count": 71,
      "outputs": [
        {
          "output_type": "stream",
          "name": "stdout",
          "text": [
            "[[118  14]\n",
            " [  3 405]]\n",
            "              precision    recall  f1-score   support\n",
            "\n",
            "           0       0.98      0.89      0.93       132\n",
            "           1       0.97      0.99      0.98       408\n",
            "\n",
            "    accuracy                           0.97       540\n",
            "   macro avg       0.97      0.94      0.96       540\n",
            "weighted avg       0.97      0.97      0.97       540\n",
            "\n"
          ]
        }
      ]
    },
    {
      "cell_type": "markdown",
      "source": [
        "# ***MULTINOMIALNB***"
      ],
      "metadata": {
        "id": "N5qaMoupPjIO"
      }
    },
    {
      "cell_type": "code",
      "source": [
        "mb = MultinomialNB()\n",
        "mb.fit(X_train,y_train)\n",
        "mbpred = mb.predict(X_test)\n",
        "print(metrics.accuracy_score(y_test,mbpred))\n",
        "print('Accuracy on training data: {:,.3f}'.format(mb.score (X_train, y_train)))\n",
        "\n",
        "print('Accuracy on test data: {:,.3f}'.format(mb.score (X_test, y_test)))"
      ],
      "metadata": {
        "colab": {
          "base_uri": "https://localhost:8080/"
        },
        "id": "XtT4feA15EdU",
        "outputId": "5c0530a7-becd-4e8c-d986-305c91462711"
      },
      "execution_count": 79,
      "outputs": [
        {
          "output_type": "stream",
          "name": "stdout",
          "text": [
            "0.9666666666666667\n",
            "Accuracy on training data: 0.976\n",
            "Accuracy on test data: 0.967\n"
          ]
        }
      ]
    },
    {
      "cell_type": "code",
      "source": [
        "from sklearn.metrics import confusion_matrix\n",
        "from sklearn.metrics import classification_report\n",
        "\n",
        "# Print the confusion matrix\n",
        "print(confusion_matrix(y_test, mbpred))\n",
        "print(classification_report(y_test, mbpred))"
      ],
      "metadata": {
        "colab": {
          "base_uri": "https://localhost:8080/"
        },
        "id": "iIsu_mkvNzYO",
        "outputId": "559ead55-1312-40fa-ecbf-18fd75f9a93c"
      },
      "execution_count": 78,
      "outputs": [
        {
          "output_type": "stream",
          "name": "stdout",
          "text": [
            "[[126   6]\n",
            " [ 12 396]]\n",
            "              precision    recall  f1-score   support\n",
            "\n",
            "           0       0.91      0.95      0.93       132\n",
            "           1       0.99      0.97      0.98       408\n",
            "\n",
            "    accuracy                           0.97       540\n",
            "   macro avg       0.95      0.96      0.96       540\n",
            "weighted avg       0.97      0.97      0.97       540\n",
            "\n"
          ]
        }
      ]
    },
    {
      "cell_type": "markdown",
      "source": [
        "# **LOGISTIC REGRESSION**"
      ],
      "metadata": {
        "id": "eUtQIKwdPuZW"
      }
    },
    {
      "cell_type": "code",
      "source": [
        "from sklearn.linear_model import LogisticRegression\n",
        "from sklearn import metrics\n",
        "\n",
        "# Define the LogisticRegression model\n",
        "log_reg = LogisticRegression()\n",
        "\n",
        "# Fit the model on the training data\n",
        "log_reg.fit(X_train, y_train)\n",
        "\n",
        "# Make predictions on the test data\n",
        "model4_pred = log_reg.predict(X_test)\n",
        "\n",
        "# Evaluate the accuracy of the model\n",
        "print(metrics.accuracy_score(y_test, model4_pred))\n",
        "\n",
        "print('Accuracy on training data: {:,.3f}'.format(log_reg.score (X_train, y_train)))\n",
        "\n",
        "print('Accuracy on test data: {:,.3f}'.format(log_reg.score (X_test, y_test)))"
      ],
      "metadata": {
        "colab": {
          "base_uri": "https://localhost:8080/"
        },
        "id": "veLExoTr5XoS",
        "outputId": "a9c01920-16a7-4a92-abd1-893e20502772"
      },
      "execution_count": 60,
      "outputs": [
        {
          "output_type": "stream",
          "name": "stdout",
          "text": [
            "0.9722222222222222\n",
            "Accuracy on training data: 0.985\n",
            "Accuracy on test data: 0.972\n"
          ]
        }
      ]
    },
    {
      "cell_type": "code",
      "source": [
        "from sklearn.metrics import confusion_matrix\n",
        "from sklearn.metrics import classification_report\n",
        "\n",
        "# Print the confusion matrix\n",
        "print(confusion_matrix(y_test, model4_pred))\n",
        "print(classification_report(y_test, model4_pred))"
      ],
      "metadata": {
        "colab": {
          "base_uri": "https://localhost:8080/"
        },
        "id": "xQD3pNIJ7eU3",
        "outputId": "00cb89e6-58ed-4356-f4f0-998a16ea5464"
      },
      "execution_count": 66,
      "outputs": [
        {
          "output_type": "stream",
          "name": "stdout",
          "text": [
            "[[119  13]\n",
            " [  2 406]]\n",
            "              precision    recall  f1-score   support\n",
            "\n",
            "           0       0.98      0.90      0.94       132\n",
            "           1       0.97      1.00      0.98       408\n",
            "\n",
            "    accuracy                           0.97       540\n",
            "   macro avg       0.98      0.95      0.96       540\n",
            "weighted avg       0.97      0.97      0.97       540\n",
            "\n"
          ]
        }
      ]
    },
    {
      "cell_type": "markdown",
      "source": [
        "# **NAIVE BAYERS**"
      ],
      "metadata": {
        "id": "0IwCvnIrP6hK"
      }
    },
    {
      "cell_type": "code",
      "source": [
        "#Naive Bayes Classifier\n",
        "\n",
        "from sklearn.naive_bayes import GaussianNB\n",
        "\n",
        "gnb= GaussianNB()\n",
        "\n",
        "# Convert X_train to a dense NumPy array\n",
        "X_train_dense = X_train.toarray()\n",
        "\n",
        "# Convert X_test to a dense NumPy array\n",
        "X_test_dense = X_test.toarray()\n",
        "\n",
        "gnb.fit(X_train_dense,y_train)\n",
        "\n",
        "gnbpred = gnb.predict(X_test_dense)\n",
        "\n",
        "print(metrics.accuracy_score(y_test, gnbpred))\n",
        "\n",
        "print('Accuracy on training data: {:,.3f}'.format(gnb.score (X_train_dense, y_train)))\n",
        "\n",
        "print('Accuracy on test data: {:,.3f}'.format(gnb.score (X_test_dense, y_test)))"
      ],
      "metadata": {
        "colab": {
          "base_uri": "https://localhost:8080/"
        },
        "id": "fRJ_UxXsP_Og",
        "outputId": "059c3fe0-2bd6-4d60-d1fd-6b8d9ee228ef"
      },
      "execution_count": 84,
      "outputs": [
        {
          "output_type": "stream",
          "name": "stdout",
          "text": [
            "0.8\n",
            "Accuracy on training data: 0.812\n",
            "Accuracy on test data: 0.800\n"
          ]
        }
      ]
    },
    {
      "cell_type": "code",
      "source": [
        "from sklearn.metrics import confusion_matrix\n",
        "from sklearn.metrics import classification_report\n",
        "\n",
        "# Print the confusion matrix\n",
        "print(confusion_matrix(y_test, gnbpred))\n",
        "print(classification_report(y_test, gnbpred))"
      ],
      "metadata": {
        "colab": {
          "base_uri": "https://localhost:8080/"
        },
        "id": "2e7aQKEaSaUR",
        "outputId": "29218702-10b7-4ee2-cf07-1be2d46d9419"
      },
      "execution_count": 89,
      "outputs": [
        {
          "output_type": "stream",
          "name": "stdout",
          "text": [
            "[[130   2]\n",
            " [106 302]]\n",
            "              precision    recall  f1-score   support\n",
            "\n",
            "           0       0.55      0.98      0.71       132\n",
            "           1       0.99      0.74      0.85       408\n",
            "\n",
            "    accuracy                           0.80       540\n",
            "   macro avg       0.77      0.86      0.78       540\n",
            "weighted avg       0.89      0.80      0.81       540\n",
            "\n"
          ]
        }
      ]
    },
    {
      "cell_type": "markdown",
      "source": [
        "# ** TF-IDF (Term Frequency-Inverse Document Frequency)**"
      ],
      "metadata": {
        "id": "qhGJa4PlS6sv"
      }
    },
    {
      "cell_type": "code",
      "source": [
        "import time\n",
        "def vectorize_text():\n",
        "    tfidf_vectorizer = TfidfVectorizer(max_df=0.90,min_df=2,\n",
        "                           max_features=10000)\n",
        "    tfidf_vec = tfidf_vectorizer.fit_transform(messeges['Message'])\n",
        "\n",
        "start_time = time.perf_counter()\n",
        "# Perform vectorization\n",
        "vector = vectorize_text()\n",
        "\n",
        "# End time measurement\n",
        "end_time = time.perf_counter()\n",
        "\n",
        "# Calculate elapsed time\n",
        "elapsed_time = end_time - start_time\n",
        "print(f\"Computational time for vectorization: {elapsed_time:.4f} seconds\")"
      ],
      "metadata": {
        "colab": {
          "base_uri": "https://localhost:8080/"
        },
        "id": "fygCPQOxWQzz",
        "outputId": "e352fec2-963c-459f-ccd0-eb1b2ab4df22"
      },
      "execution_count": 107,
      "outputs": [
        {
          "output_type": "stream",
          "name": "stdout",
          "text": [
            "Computational time for vectorization: 0.0846 seconds\n"
          ]
        }
      ]
    },
    {
      "cell_type": "code",
      "source": [
        "from sklearn.feature_extraction.text import TfidfVectorizer\n",
        "\n",
        "tfidf_vec = TfidfVectorizer(max_df=0.90, min_df=2, max_features=1000, stop_words='english')\n",
        "\n",
        "tfidf_matrix = tfidf_vec.fit_transform(messeges['Message'])\n",
        "tfidf_matrix\n"
      ],
      "metadata": {
        "colab": {
          "base_uri": "https://localhost:8080/"
        },
        "id": "y17QQ-AQS6Gx",
        "outputId": "76bc6f78-75c6-4711-b78f-e294f1337c71"
      },
      "execution_count": 91,
      "outputs": [
        {
          "output_type": "execute_result",
          "data": {
            "text/plain": [
              "<2700x1000 sparse matrix of type '<class 'numpy.float64'>'\n",
              "\twith 16742 stored elements in Compressed Sparse Row format>"
            ]
          },
          "metadata": {},
          "execution_count": 91
        }
      ]
    },
    {
      "cell_type": "code",
      "source": [
        "X2_train, X2_test, y2_train, y2_test = train_test_split(tfidf_matrix,y,\n",
        "                                                    test_size=0.2)\n",
        "X2_train.shape,X2_test.shape"
      ],
      "metadata": {
        "colab": {
          "base_uri": "https://localhost:8080/"
        },
        "id": "T3NvVYy9TDTl",
        "outputId": "6e7c1eea-f910-4d79-9542-1a91a680aef5"
      },
      "execution_count": 93,
      "outputs": [
        {
          "output_type": "execute_result",
          "data": {
            "text/plain": [
              "((2160, 1000), (540, 1000))"
            ]
          },
          "metadata": {},
          "execution_count": 93
        }
      ]
    },
    {
      "cell_type": "code",
      "source": [
        "from sklearn import metrics\n",
        "from sklearn.svm import SVC\n",
        "\n",
        "\n",
        "# Train the SVC model\n",
        "svc = SVC()\n",
        "svc.fit(X2_train, y2_train)\n",
        "\n",
        "# Make predictions on the test set\n",
        "svccpred = svc.predict(X2_test)\n",
        "\n",
        "# Calculate accuracy on the training and test sets\n",
        "train_accuracy = svc.score(X2_train, y2_train)\n",
        "test_accuracy = svc.score(X2_test, y2_test)\n",
        "\n",
        "# Print the accuracy scores\n",
        "print('Accuracy on training data: {:,.3f}'.format(train_accuracy))\n",
        "print('Accuracy on test data: {:,.3f}'.format(test_accuracy))"
      ],
      "metadata": {
        "colab": {
          "base_uri": "https://localhost:8080/"
        },
        "id": "GZ1WRQYOTdqA",
        "outputId": "464b9cd6-144e-42ee-cda7-a2708f9bb235"
      },
      "execution_count": 94,
      "outputs": [
        {
          "output_type": "stream",
          "name": "stdout",
          "text": [
            "Accuracy on training data: 0.995\n",
            "Accuracy on test data: 0.967\n"
          ]
        }
      ]
    },
    {
      "cell_type": "code",
      "source": [
        "from sklearn.metrics import confusion_matrix\n",
        "from sklearn.metrics import classification_report\n",
        "\n",
        "# Print the confusion matrix\n",
        "print(confusion_matrix(y2_test, svccpred))\n",
        "print(classification_report(y2_test, svccpred))"
      ],
      "metadata": {
        "colab": {
          "base_uri": "https://localhost:8080/"
        },
        "id": "2RCO6nWDTrQO",
        "outputId": "06f35547-6a9d-4e37-d133-eb5ade4c5592"
      },
      "execution_count": 95,
      "outputs": [
        {
          "output_type": "stream",
          "name": "stdout",
          "text": [
            "[[123  16]\n",
            " [  2 399]]\n",
            "              precision    recall  f1-score   support\n",
            "\n",
            "           0       0.98      0.88      0.93       139\n",
            "           1       0.96      1.00      0.98       401\n",
            "\n",
            "    accuracy                           0.97       540\n",
            "   macro avg       0.97      0.94      0.95       540\n",
            "weighted avg       0.97      0.97      0.97       540\n",
            "\n"
          ]
        }
      ]
    },
    {
      "cell_type": "markdown",
      "source": [
        "# **MULTINOMIALNB**"
      ],
      "metadata": {
        "id": "ndZ1Mlt_TuL1"
      }
    },
    {
      "cell_type": "code",
      "source": [
        "mb = MultinomialNB()\n",
        "mb.fit(X2_train,y2_train)\n",
        "mbpred = mb.predict(X2_test)\n",
        "print(metrics.accuracy_score(y2_test,mbpred))\n",
        "print('Accuracy on training data: {:,.3f}'.format(mb.score (X2_train, y2_train)))\n",
        "\n",
        "print('Accuracy on test data: {:,.3f}'.format(mb.score (X2_test, y2_test)))"
      ],
      "metadata": {
        "colab": {
          "base_uri": "https://localhost:8080/"
        },
        "id": "D1OsCAD9T0kj",
        "outputId": "5d84d35d-b5a4-4ba3-df1a-9b3d0a41ec31"
      },
      "execution_count": 97,
      "outputs": [
        {
          "output_type": "stream",
          "name": "stdout",
          "text": [
            "0.9648148148148148\n",
            "Accuracy on training data: 0.979\n",
            "Accuracy on test data: 0.965\n"
          ]
        }
      ]
    },
    {
      "cell_type": "code",
      "source": [
        "from sklearn.metrics import confusion_matrix\n",
        "from sklearn.metrics import classification_report\n",
        "\n",
        "# Print the confusion matrix\n",
        "print(confusion_matrix(y2_test, mbpred))\n",
        "print(classification_report(y2_test, mbpred))"
      ],
      "metadata": {
        "colab": {
          "base_uri": "https://localhost:8080/"
        },
        "id": "CzU0F67CUAnw",
        "outputId": "168f81c9-f5d3-4e0d-f45e-83bd448c9f08"
      },
      "execution_count": 98,
      "outputs": [
        {
          "output_type": "stream",
          "name": "stdout",
          "text": [
            "[[125  14]\n",
            " [  5 396]]\n",
            "              precision    recall  f1-score   support\n",
            "\n",
            "           0       0.96      0.90      0.93       139\n",
            "           1       0.97      0.99      0.98       401\n",
            "\n",
            "    accuracy                           0.96       540\n",
            "   macro avg       0.96      0.94      0.95       540\n",
            "weighted avg       0.96      0.96      0.96       540\n",
            "\n"
          ]
        }
      ]
    },
    {
      "cell_type": "markdown",
      "source": [
        "# **LOGISTIC REGRESSION**"
      ],
      "metadata": {
        "id": "O_kNnTkYUJq4"
      }
    },
    {
      "cell_type": "code",
      "source": [
        "from sklearn.linear_model import LogisticRegression\n",
        "from sklearn import metrics\n",
        "\n",
        "# Define the LogisticRegression model\n",
        "log_reg = LogisticRegression()\n",
        "\n",
        "# Fit the model on the training data\n",
        "log_reg.fit(X2_train, y2_train)\n",
        "\n",
        "# Make predictions on the test data\n",
        "model4_pred = log_reg.predict(X2_test)\n",
        "\n",
        "# Evaluate the accuracy of the model\n",
        "print(metrics.accuracy_score(y2_test, model4_pred))\n",
        "\n",
        "print('Accuracy on training data: {:,.3f}'.format(log_reg.score (X2_train, y2_train)))\n",
        "\n",
        "print('Accuracy on test data: {:,.3f}'.format(log_reg.score (X2_test, y2_test)))"
      ],
      "metadata": {
        "outputId": "e4c08f80-9de5-4832-97ef-2d7d152fec46",
        "colab": {
          "base_uri": "https://localhost:8080/"
        },
        "id": "MupTCS1cUOwM"
      },
      "execution_count": 99,
      "outputs": [
        {
          "output_type": "stream",
          "name": "stdout",
          "text": [
            "0.9611111111111111\n",
            "Accuracy on training data: 0.971\n",
            "Accuracy on test data: 0.961\n"
          ]
        }
      ]
    },
    {
      "cell_type": "code",
      "source": [
        "from sklearn.metrics import confusion_matrix\n",
        "from sklearn.metrics import classification_report\n",
        "\n",
        "# Print the confusion matrix\n",
        "print(confusion_matrix(y2_test, model4_pred))\n",
        "print(classification_report(y2_test, model4_pred))"
      ],
      "metadata": {
        "outputId": "529cc807-94cf-4a63-e38b-63350666777a",
        "colab": {
          "base_uri": "https://localhost:8080/"
        },
        "id": "oqKSWpj_Upfe"
      },
      "execution_count": 100,
      "outputs": [
        {
          "output_type": "stream",
          "name": "stdout",
          "text": [
            "[[119  20]\n",
            " [  1 400]]\n",
            "              precision    recall  f1-score   support\n",
            "\n",
            "           0       0.99      0.86      0.92       139\n",
            "           1       0.95      1.00      0.97       401\n",
            "\n",
            "    accuracy                           0.96       540\n",
            "   macro avg       0.97      0.93      0.95       540\n",
            "weighted avg       0.96      0.96      0.96       540\n",
            "\n"
          ]
        }
      ]
    },
    {
      "cell_type": "markdown",
      "source": [
        "# **NAIVE BAYERS**"
      ],
      "metadata": {
        "id": "lOcQcLIuUwCh"
      }
    },
    {
      "cell_type": "code",
      "source": [
        "#Naive Bayes Classifier\n",
        "\n",
        "from sklearn.naive_bayes import GaussianNB\n",
        "\n",
        "gnb= GaussianNB()\n",
        "\n",
        "# Convert X_train to a dense NumPy array\n",
        "X2_train_dense = X2_train.toarray()\n",
        "\n",
        "# Convert X_test to a dense NumPy array\n",
        "X2_test_dense = X2_test.toarray()\n",
        "\n",
        "gnb.fit(X2_train_dense,y2_train)\n",
        "\n",
        "gnbpred = gnb.predict(X2_test_dense)\n",
        "\n",
        "print(metrics.accuracy_score(y2_test, gnbpred))\n",
        "\n",
        "print('Accuracy on training data: {:,.3f}'.format(gnb.score (X2_train_dense, y2_train)))\n",
        "\n",
        "print('Accuracy on test data: {:,.3f}'.format(gnb.score (X2_test_dense, y2_test)))"
      ],
      "metadata": {
        "outputId": "1ec64409-93e5-4c2f-8847-2cec9476c8ee",
        "colab": {
          "base_uri": "https://localhost:8080/"
        },
        "id": "QwqEDHZIUwCh"
      },
      "execution_count": 101,
      "outputs": [
        {
          "output_type": "stream",
          "name": "stdout",
          "text": [
            "0.8203703703703704\n",
            "Accuracy on training data: 0.862\n",
            "Accuracy on test data: 0.820\n"
          ]
        }
      ]
    },
    {
      "cell_type": "code",
      "source": [
        "from sklearn.metrics import confusion_matrix\n",
        "from sklearn.metrics import classification_report\n",
        "\n",
        "# Print the confusion matrix\n",
        "print(confusion_matrix(y2_test, gnbpred))\n",
        "print(classification_report(y2_test, gnbpred))"
      ],
      "metadata": {
        "outputId": "e89e50d5-b469-47f0-a466-457447d4cc74",
        "colab": {
          "base_uri": "https://localhost:8080/"
        },
        "id": "Rp57D1NBUwCh"
      },
      "execution_count": 102,
      "outputs": [
        {
          "output_type": "stream",
          "name": "stdout",
          "text": [
            "[[128  11]\n",
            " [ 86 315]]\n",
            "              precision    recall  f1-score   support\n",
            "\n",
            "           0       0.60      0.92      0.73       139\n",
            "           1       0.97      0.79      0.87       401\n",
            "\n",
            "    accuracy                           0.82       540\n",
            "   macro avg       0.78      0.85      0.80       540\n",
            "weighted avg       0.87      0.82      0.83       540\n",
            "\n"
          ]
        }
      ]
    },
    {
      "cell_type": "code",
      "source": [
        "## count vectorizer\n",
        "import time\n",
        "def vectorize_text():\n",
        "    count_vec = CountVectorizer(max_df=0.90,min_df=2,\n",
        "                           max_features=10000 )\n",
        "\n",
        "    bagofword_vec = count_vec.fit_transform(messeges['Message'])\n",
        "start_time = time.perf_counter()\n",
        "# Perform vectorization\n",
        "vector = vectorize_text()\n",
        "\n",
        "# End time measurement\n",
        "end_time = time.perf_counter()\n",
        "\n",
        "# Calculate elapsed time\n",
        "elapsed_time = end_time - start_time\n",
        "print(f\"Computational time for vectorization: {elapsed_time:.4f} seconds\")\n",
        "\n",
        "bagofword_vec"
      ],
      "metadata": {
        "colab": {
          "base_uri": "https://localhost:8080/"
        },
        "id": "Y_PwMZpAVcmD",
        "outputId": "57d2c090-a517-4afd-ba76-324515928374"
      },
      "execution_count": 104,
      "outputs": [
        {
          "output_type": "stream",
          "name": "stdout",
          "text": [
            "Computational time for vectorization: 0.0769 seconds\n"
          ]
        },
        {
          "output_type": "execute_result",
          "data": {
            "text/plain": [
              "<2700x1000 sparse matrix of type '<class 'numpy.int64'>'\n",
              "\twith 16742 stored elements in Compressed Sparse Row format>"
            ]
          },
          "metadata": {},
          "execution_count": 104
        }
      ]
    }
  ]
}